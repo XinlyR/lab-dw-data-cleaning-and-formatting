{
 "cells": [
  {
   "cell_type": "markdown",
   "id": "25d7736c-ba17-4aff-b6bb-66eba20fbf4e",
   "metadata": {
    "id": "25d7736c-ba17-4aff-b6bb-66eba20fbf4e"
   },
   "source": [
    "# Lab | Data Cleaning and Formatting"
   ]
  },
  {
   "cell_type": "markdown",
   "id": "d1973e9e-8be6-4039-b70e-d73ee0d94c99",
   "metadata": {
    "id": "d1973e9e-8be6-4039-b70e-d73ee0d94c99"
   },
   "source": [
    "In this lab, we will be working with the customer data from an insurance company, which can be found in the CSV file located at the following link: https://raw.githubusercontent.com/data-bootcamp-v4/data/main/file1.csv\n"
   ]
  },
  {
   "cell_type": "markdown",
   "id": "31b8a9e7-7db9-4604-991b-ef6771603e57",
   "metadata": {
    "id": "31b8a9e7-7db9-4604-991b-ef6771603e57"
   },
   "source": [
    "# Challenge 1: Data Cleaning and Formatting"
   ]
  },
  {
   "cell_type": "markdown",
   "id": "81553f19-9f2c-484b-8940-520aff884022",
   "metadata": {
    "id": "81553f19-9f2c-484b-8940-520aff884022"
   },
   "source": [
    "## Exercise 1: Cleaning Column Names"
   ]
  },
  {
   "cell_type": "markdown",
   "id": "34a929f4-1be4-4fa8-adda-42ffd920be90",
   "metadata": {
    "id": "34a929f4-1be4-4fa8-adda-42ffd920be90"
   },
   "source": [
    "To ensure consistency and ease of use, standardize the column names of the dataframe. Start by taking a first look at the dataframe and identifying any column names that need to be modified. Use appropriate naming conventions and make sure that column names are descriptive and informative.\n",
    "\n",
    "*Hint*:\n",
    "- *Column names should be in lower case*\n",
    "- *White spaces in column names should be replaced by `_`*\n",
    "- *`st` could be replaced for `state`*"
   ]
  },
  {
   "cell_type": "code",
   "execution_count": 76,
   "id": "5810735c-8056-4442-bbf2-dda38d3e284a",
   "metadata": {
    "id": "5810735c-8056-4442-bbf2-dda38d3e284a"
   },
   "outputs": [],
   "source": [
    "import numpy as np\n",
    "import pandas as pd\n",
    "url='https://raw.githubusercontent.com/data-bootcamp-v4/data/main/file1.csv'\n",
    "df=pd.read_csv('https://raw.githubusercontent.com/data-bootcamp-v4/data/main/file1.csv')\n",
    "dff=df.copy()"
   ]
  },
  {
   "cell_type": "code",
   "execution_count": 88,
   "id": "5ca83877-64f6-43ca-b57f-dd90a005edde",
   "metadata": {},
   "outputs": [
    {
     "data": {
      "text/html": [
       "<div>\n",
       "<style scoped>\n",
       "    .dataframe tbody tr th:only-of-type {\n",
       "        vertical-align: middle;\n",
       "    }\n",
       "\n",
       "    .dataframe tbody tr th {\n",
       "        vertical-align: top;\n",
       "    }\n",
       "\n",
       "    .dataframe thead th {\n",
       "        text-align: right;\n",
       "    }\n",
       "</style>\n",
       "<table border=\"1\" class=\"dataframe\">\n",
       "  <thead>\n",
       "    <tr style=\"text-align: right;\">\n",
       "      <th></th>\n",
       "      <th>Customer</th>\n",
       "      <th>ST</th>\n",
       "      <th>GENDER</th>\n",
       "      <th>Education</th>\n",
       "      <th>Customer Lifetime Value</th>\n",
       "      <th>Income</th>\n",
       "      <th>Monthly Premium Auto</th>\n",
       "      <th>Number of Open Complaints</th>\n",
       "      <th>Policy Type</th>\n",
       "      <th>Vehicle Class</th>\n",
       "      <th>Total Claim Amount</th>\n",
       "    </tr>\n",
       "  </thead>\n",
       "  <tbody>\n",
       "    <tr>\n",
       "      <th>0</th>\n",
       "      <td>RB50392</td>\n",
       "      <td>Washington</td>\n",
       "      <td>NaN</td>\n",
       "      <td>Master</td>\n",
       "      <td>NaN</td>\n",
       "      <td>0.0</td>\n",
       "      <td>1000.0</td>\n",
       "      <td>1/0/00</td>\n",
       "      <td>Personal Auto</td>\n",
       "      <td>Four-Door Car</td>\n",
       "      <td>2.704934</td>\n",
       "    </tr>\n",
       "    <tr>\n",
       "      <th>1</th>\n",
       "      <td>QZ44356</td>\n",
       "      <td>Arizona</td>\n",
       "      <td>F</td>\n",
       "      <td>Bachelor</td>\n",
       "      <td>697953.59%</td>\n",
       "      <td>0.0</td>\n",
       "      <td>94.0</td>\n",
       "      <td>1/0/00</td>\n",
       "      <td>Personal Auto</td>\n",
       "      <td>Four-Door Car</td>\n",
       "      <td>1131.464935</td>\n",
       "    </tr>\n",
       "    <tr>\n",
       "      <th>2</th>\n",
       "      <td>AI49188</td>\n",
       "      <td>Nevada</td>\n",
       "      <td>F</td>\n",
       "      <td>Bachelor</td>\n",
       "      <td>1288743.17%</td>\n",
       "      <td>48767.0</td>\n",
       "      <td>108.0</td>\n",
       "      <td>1/0/00</td>\n",
       "      <td>Personal Auto</td>\n",
       "      <td>Two-Door Car</td>\n",
       "      <td>566.472247</td>\n",
       "    </tr>\n",
       "    <tr>\n",
       "      <th>3</th>\n",
       "      <td>WW63253</td>\n",
       "      <td>California</td>\n",
       "      <td>M</td>\n",
       "      <td>Bachelor</td>\n",
       "      <td>764586.18%</td>\n",
       "      <td>0.0</td>\n",
       "      <td>106.0</td>\n",
       "      <td>1/0/00</td>\n",
       "      <td>Corporate Auto</td>\n",
       "      <td>SUV</td>\n",
       "      <td>529.881344</td>\n",
       "    </tr>\n",
       "    <tr>\n",
       "      <th>4</th>\n",
       "      <td>GA49547</td>\n",
       "      <td>Washington</td>\n",
       "      <td>M</td>\n",
       "      <td>High School or Below</td>\n",
       "      <td>536307.65%</td>\n",
       "      <td>36357.0</td>\n",
       "      <td>68.0</td>\n",
       "      <td>1/0/00</td>\n",
       "      <td>Personal Auto</td>\n",
       "      <td>Four-Door Car</td>\n",
       "      <td>17.269323</td>\n",
       "    </tr>\n",
       "  </tbody>\n",
       "</table>\n",
       "</div>"
      ],
      "text/plain": [
       "  Customer          ST GENDER             Education Customer Lifetime Value  \\\n",
       "0  RB50392  Washington    NaN                Master                     NaN   \n",
       "1  QZ44356     Arizona      F              Bachelor              697953.59%   \n",
       "2  AI49188      Nevada      F              Bachelor             1288743.17%   \n",
       "3  WW63253  California      M              Bachelor              764586.18%   \n",
       "4  GA49547  Washington      M  High School or Below              536307.65%   \n",
       "\n",
       "    Income  Monthly Premium Auto Number of Open Complaints     Policy Type  \\\n",
       "0      0.0                1000.0                    1/0/00   Personal Auto   \n",
       "1      0.0                  94.0                    1/0/00   Personal Auto   \n",
       "2  48767.0                 108.0                    1/0/00   Personal Auto   \n",
       "3      0.0                 106.0                    1/0/00  Corporate Auto   \n",
       "4  36357.0                  68.0                    1/0/00   Personal Auto   \n",
       "\n",
       "   Vehicle Class  Total Claim Amount  \n",
       "0  Four-Door Car            2.704934  \n",
       "1  Four-Door Car         1131.464935  \n",
       "2   Two-Door Car          566.472247  \n",
       "3            SUV          529.881344  \n",
       "4  Four-Door Car           17.269323  "
      ]
     },
     "execution_count": 88,
     "metadata": {},
     "output_type": "execute_result"
    }
   ],
   "source": [
    "dff.head()"
   ]
  },
  {
   "cell_type": "code",
   "execution_count": 90,
   "id": "723aa88b-ee19-4ec9-8db2-1370517ee8b8",
   "metadata": {},
   "outputs": [
    {
     "data": {
      "text/plain": [
       "Index(['customer', 'st', 'gender', 'education', 'customer_lifetime_value',\n",
       "       'income', 'monthly_premium_auto', 'number_of_open_complaints',\n",
       "       'policy_type', 'vehicle_class', 'total_claim_amount'],\n",
       "      dtype='object')"
      ]
     },
     "execution_count": 90,
     "metadata": {},
     "output_type": "execute_result"
    }
   ],
   "source": [
    "#1.Column names should be in lower case\n",
    "#White spaces in column names should be replaced by _\n",
    "dff.columns=[col.replace(\" \",\"_\").lower() for col in dff.columns]\n",
    "\n",
    "dff.columns\n"
   ]
  },
  {
   "cell_type": "code",
   "execution_count": 92,
   "id": "573cf360-5289-4eff-b2f4-f07e05a81014",
   "metadata": {},
   "outputs": [
    {
     "data": {
      "text/plain": [
       "Index(['customer', 'state', 'gender', 'education', 'customer_lifetime_value',\n",
       "       'income', 'monthly_premium_auto', 'number_of_open_complaints',\n",
       "       'policy_type', 'vehicle_class', 'total_claim_amount'],\n",
       "      dtype='object')"
      ]
     },
     "execution_count": 92,
     "metadata": {},
     "output_type": "execute_result"
    }
   ],
   "source": [
    "#st could be replaced for state\n",
    "dff.rename(columns={\"st\":\"state\"},inplace=True)\n",
    "dff.columns\n"
   ]
  },
  {
   "cell_type": "markdown",
   "id": "9cb501ec-36ff-4589-b872-6252bb150316",
   "metadata": {
    "id": "9cb501ec-36ff-4589-b872-6252bb150316"
   },
   "source": [
    "## Exercise 2: Cleaning invalid Values"
   ]
  },
  {
   "cell_type": "markdown",
   "id": "771fdcf3-8e20-4b06-9c24-3a93ba2b0909",
   "metadata": {
    "id": "771fdcf3-8e20-4b06-9c24-3a93ba2b0909"
   },
   "source": [
    "The dataset contains columns with inconsistent and incorrect values that could affect the accuracy of our analysis. Therefore, we need to clean these columns to ensure that they only contain valid data.\n",
    "\n",
    "Note that this exercise will focus only on cleaning inconsistent values and will not involve handling null values (NaN or None).\n",
    "\n",
    "*Hint*:\n",
    "- *Gender column contains various inconsistent values such as \"F\", \"M\", \"Femal\", \"Male\", \"female\", which need to be standardized, for example, to \"M\" and \"F\".*\n",
    "- *State abbreviations be can replaced with its full name, for example \"AZ\": \"Arizona\", \"Cali\": \"California\", \"WA\": \"Washington\"*\n",
    "- *In education, \"Bachelors\" could be replaced by \"Bachelor\"*\n",
    "- *In Customer Lifetime Value, delete the `%` character*\n",
    "- *In vehicle class, \"Sports Car\", \"Luxury SUV\" and \"Luxury Car\" could be replaced by \"Luxury\"*"
   ]
  },
  {
   "cell_type": "code",
   "execution_count": 94,
   "id": "ca076f47-2b83-4062-a123-c6eef2b9b3a7",
   "metadata": {},
   "outputs": [
    {
     "data": {
      "text/plain": [
       "gender\n",
       "F    45\n",
       "M    39\n",
       "Name: count, dtype: int64"
      ]
     },
     "execution_count": 94,
     "metadata": {},
     "output_type": "execute_result"
    }
   ],
   "source": [
    "#Gender column contains various inconsistent values such as \"F\", \"M\", \"Femal\",\n",
    "#\"Male\", \"female\", which need to be standardized, for example, to \"M\" and \"F\".\n",
    "def Gender(row):\n",
    "    if row[\"gender\"]==\"Femal\":\n",
    "        return\"F\"\n",
    "    elif row[\"gender\"]==\"Male\":\n",
    "        return\"M\"\n",
    "    elif row[\"gender\"]==\"female\":\n",
    "        return\"F\"  \n",
    "        \n",
    "dff[\"gender\"]=dff.apply(Gender, axis=1)\n",
    "dff[\"gender\"].value_counts()"
   ]
  },
  {
   "cell_type": "code",
   "execution_count": 96,
   "id": "21821b4e-b634-4396-993a-c2ca7bdce799",
   "metadata": {},
   "outputs": [
    {
     "data": {
      "text/plain": [
       "state\n",
       "California    120\n",
       "Washington     30\n",
       "Arizona        25\n",
       "Name: count, dtype: int64"
      ]
     },
     "execution_count": 96,
     "metadata": {},
     "output_type": "execute_result"
    }
   ],
   "source": [
    "#2.State abbreviations be can replaced with its full name, for example \"AZ\": \"Arizona\", \n",
    "#\"Cali\": \"California\", \"WA\": \"Washington\"\n",
    "def State(row):\n",
    "    if row[\"state\"]==\"AZ\":\n",
    "        return\"Arizona\"\n",
    "    elif row[\"state\"]==\"Cali\":\n",
    "        return\"California\"\n",
    "    elif row[\"state\"]==\"WA\":\n",
    "        return\"Washington\" \n",
    "\n",
    "dff[\"state\"]=dff.apply(State, axis=1)\n",
    "dff[\"state\"].value_counts()"
   ]
  },
  {
   "cell_type": "code",
   "execution_count": 98,
   "id": "3f8ee5cb-50ab-48af-8a9f-9a389804033c",
   "metadata": {
    "id": "3f8ee5cb-50ab-48af-8a9f-9a389804033c"
   },
   "outputs": [],
   "source": [
    "#In education, \"Bachelors\" could be replaced by \"Bachelor\"\n",
    "\n",
    "dff['education']=dff['education'].replace({\"Bachelors\":\"Bachelor\"})\n"
   ]
  },
  {
   "cell_type": "code",
   "execution_count": 16,
   "id": "de5193f9-419c-47f6-8766-cc6f8866ce83",
   "metadata": {},
   "outputs": [
    {
     "data": {
      "text/html": [
       "<div>\n",
       "<style scoped>\n",
       "    .dataframe tbody tr th:only-of-type {\n",
       "        vertical-align: middle;\n",
       "    }\n",
       "\n",
       "    .dataframe tbody tr th {\n",
       "        vertical-align: top;\n",
       "    }\n",
       "\n",
       "    .dataframe thead th {\n",
       "        text-align: right;\n",
       "    }\n",
       "</style>\n",
       "<table border=\"1\" class=\"dataframe\">\n",
       "  <thead>\n",
       "    <tr style=\"text-align: right;\">\n",
       "      <th></th>\n",
       "      <th>customer</th>\n",
       "      <th>state</th>\n",
       "      <th>gender</th>\n",
       "      <th>education</th>\n",
       "      <th>customer_lifetime_value</th>\n",
       "      <th>income</th>\n",
       "      <th>monthly_premium_auto</th>\n",
       "      <th>number_of_open_complaints</th>\n",
       "      <th>policy_type</th>\n",
       "      <th>vehicle_class</th>\n",
       "      <th>total_claim_amount</th>\n",
       "    </tr>\n",
       "  </thead>\n",
       "  <tbody>\n",
       "    <tr>\n",
       "      <th>0</th>\n",
       "      <td>RB50392</td>\n",
       "      <td>None</td>\n",
       "      <td>None</td>\n",
       "      <td>Master</td>\n",
       "      <td>NaN</td>\n",
       "      <td>0.0</td>\n",
       "      <td>1000.0</td>\n",
       "      <td>1/0/00</td>\n",
       "      <td>Personal Auto</td>\n",
       "      <td>Four-Door Car</td>\n",
       "      <td>2.704934</td>\n",
       "    </tr>\n",
       "    <tr>\n",
       "      <th>1</th>\n",
       "      <td>QZ44356</td>\n",
       "      <td>None</td>\n",
       "      <td>None</td>\n",
       "      <td>Bachelor</td>\n",
       "      <td>697953.59</td>\n",
       "      <td>0.0</td>\n",
       "      <td>94.0</td>\n",
       "      <td>1/0/00</td>\n",
       "      <td>Personal Auto</td>\n",
       "      <td>Four-Door Car</td>\n",
       "      <td>1131.464935</td>\n",
       "    </tr>\n",
       "    <tr>\n",
       "      <th>2</th>\n",
       "      <td>AI49188</td>\n",
       "      <td>None</td>\n",
       "      <td>None</td>\n",
       "      <td>Bachelor</td>\n",
       "      <td>1288743.17</td>\n",
       "      <td>48767.0</td>\n",
       "      <td>108.0</td>\n",
       "      <td>1/0/00</td>\n",
       "      <td>Personal Auto</td>\n",
       "      <td>Two-Door Car</td>\n",
       "      <td>566.472247</td>\n",
       "    </tr>\n",
       "    <tr>\n",
       "      <th>3</th>\n",
       "      <td>WW63253</td>\n",
       "      <td>None</td>\n",
       "      <td>None</td>\n",
       "      <td>Bachelor</td>\n",
       "      <td>764586.18</td>\n",
       "      <td>0.0</td>\n",
       "      <td>106.0</td>\n",
       "      <td>1/0/00</td>\n",
       "      <td>Corporate Auto</td>\n",
       "      <td>SUV</td>\n",
       "      <td>529.881344</td>\n",
       "    </tr>\n",
       "    <tr>\n",
       "      <th>4</th>\n",
       "      <td>GA49547</td>\n",
       "      <td>None</td>\n",
       "      <td>None</td>\n",
       "      <td>High School or Below</td>\n",
       "      <td>536307.65</td>\n",
       "      <td>36357.0</td>\n",
       "      <td>68.0</td>\n",
       "      <td>1/0/00</td>\n",
       "      <td>Personal Auto</td>\n",
       "      <td>Four-Door Car</td>\n",
       "      <td>17.269323</td>\n",
       "    </tr>\n",
       "  </tbody>\n",
       "</table>\n",
       "</div>"
      ],
      "text/plain": [
       "  customer state gender             education customer_lifetime_value  \\\n",
       "0  RB50392  None   None                Master                     NaN   \n",
       "1  QZ44356  None   None              Bachelor               697953.59   \n",
       "2  AI49188  None   None              Bachelor              1288743.17   \n",
       "3  WW63253  None   None              Bachelor               764586.18   \n",
       "4  GA49547  None   None  High School or Below               536307.65   \n",
       "\n",
       "    income  monthly_premium_auto number_of_open_complaints     policy_type  \\\n",
       "0      0.0                1000.0                    1/0/00   Personal Auto   \n",
       "1      0.0                  94.0                    1/0/00   Personal Auto   \n",
       "2  48767.0                 108.0                    1/0/00   Personal Auto   \n",
       "3      0.0                 106.0                    1/0/00  Corporate Auto   \n",
       "4  36357.0                  68.0                    1/0/00   Personal Auto   \n",
       "\n",
       "   vehicle_class  total_claim_amount  \n",
       "0  Four-Door Car            2.704934  \n",
       "1  Four-Door Car         1131.464935  \n",
       "2   Two-Door Car          566.472247  \n",
       "3            SUV          529.881344  \n",
       "4  Four-Door Car           17.269323  "
      ]
     },
     "execution_count": 16,
     "metadata": {},
     "output_type": "execute_result"
    }
   ],
   "source": [
    "#In Customer Lifetime Value, delete the % character\n",
    "dff['customer_lifetime_value'] = dff['customer_lifetime_value'].str.replace('%', '')\n",
    "\n",
    "dff.head()"
   ]
  },
  {
   "cell_type": "code",
   "execution_count": 100,
   "id": "567b1baf-0cfc-43a3-ab30-9ba52102c5f2",
   "metadata": {},
   "outputs": [
    {
     "data": {
      "text/plain": [
       "vehicle_class\n",
       "Luxury    91\n",
       "Name: count, dtype: int64"
      ]
     },
     "execution_count": 100,
     "metadata": {},
     "output_type": "execute_result"
    }
   ],
   "source": [
    "#In vehicle class, \"Sports Car\", \"Luxury SUV\" and \"Luxury Car\" could be replaced by \"Luxury\"\n",
    "def Vehicle_class(row):\n",
    "    if row[\"vehicle_class\"]==\"Sports Car\":\n",
    "        return\"Luxury\"\n",
    "    elif row[\"vehicle_class\"]==\"Luxury SUV\":\n",
    "        return\"Luxury\"\n",
    "    elif row[\"vehicle_class\"]==\"Luxury Car\":\n",
    "        return\"Luxury\" \n",
    "\n",
    "dff[\"vehicle_class\"]=dff.apply(Vehicle_class, axis=1)\n",
    "dff[\"vehicle_class\"].value_counts()"
   ]
  },
  {
   "cell_type": "markdown",
   "id": "85ff78ce-0174-4890-9db3-8048b7d7d2d0",
   "metadata": {
    "id": "85ff78ce-0174-4890-9db3-8048b7d7d2d0"
   },
   "source": [
    "## Exercise 3: Formatting data types"
   ]
  },
  {
   "cell_type": "markdown",
   "id": "b91c2cf8-79a2-4baf-9f65-ff2fb22270bd",
   "metadata": {
    "id": "b91c2cf8-79a2-4baf-9f65-ff2fb22270bd"
   },
   "source": [
    "The data types of many columns in the dataset appear to be incorrect. This could impact the accuracy of our analysis. To ensure accurate analysis, we need to correct the data types of these columns. Please update the data types of the columns as appropriate."
   ]
  },
  {
   "cell_type": "markdown",
   "id": "43e5d853-ff9e-43b2-9d92-aef2f78764f3",
   "metadata": {
    "id": "43e5d853-ff9e-43b2-9d92-aef2f78764f3"
   },
   "source": [
    "It is important to note that this exercise does not involve handling null values (NaN or None)."
   ]
  },
  {
   "cell_type": "markdown",
   "id": "329ca691-9196-4419-8969-3596746237a1",
   "metadata": {
    "id": "329ca691-9196-4419-8969-3596746237a1"
   },
   "source": [
    "*Hint*:\n",
    "- *Customer lifetime value should be numeric*\n",
    "- *Number of open complaints has an incorrect format. Look at the different values it takes with `unique()` and take the middle value. As an example, 1/5/00 should be 5. Number of open complaints is a string - remember you can use `split()` to deal with it and take the number you need. Finally, since it should be numeric, cast the column to be in its proper type.*"
   ]
  },
  {
   "cell_type": "code",
   "execution_count": 102,
   "id": "021700f0-6fa3-44ee-82ec-636abbd1e75d",
   "metadata": {},
   "outputs": [
    {
     "data": {
      "text/plain": [
       "customer                      object\n",
       "state                         object\n",
       "gender                        object\n",
       "education                     object\n",
       "customer_lifetime_value        int32\n",
       "income                       float64\n",
       "monthly_premium_auto         float64\n",
       "number_of_open_complaints     object\n",
       "policy_type                   object\n",
       "vehicle_class                 object\n",
       "total_claim_amount           float64\n",
       "dtype: object"
      ]
     },
     "execution_count": 102,
     "metadata": {},
     "output_type": "execute_result"
    }
   ],
   "source": [
    "#Customer lifetime value should be numeric\n",
    "\n",
    "dff['customer_lifetime_value']= pd.to_numeric(dff['customer_lifetime_value'], errors='coerce').fillna(0).astype(int)\n",
    "dff.dtypes"
   ]
  },
  {
   "cell_type": "code",
   "execution_count": 104,
   "id": "6edb71dd-2c9d-4d38-bf94-64835edbf0a5",
   "metadata": {},
   "outputs": [
    {
     "name": "stdout",
     "output_type": "stream",
     "text": [
      "['0' '2' '1' '3' '5' '4' nan]\n"
     ]
    },
    {
     "data": {
      "text/plain": [
       "customer                      object\n",
       "state                         object\n",
       "gender                        object\n",
       "education                     object\n",
       "customer_lifetime_value        int32\n",
       "income                       float64\n",
       "monthly_premium_auto         float64\n",
       "number_of_open_complaints      int32\n",
       "policy_type                   object\n",
       "vehicle_class                 object\n",
       "total_claim_amount           float64\n",
       "dtype: object"
      ]
     },
     "execution_count": 104,
     "metadata": {},
     "output_type": "execute_result"
    }
   ],
   "source": [
    "#Number of open complaints has an incorrect format. \n",
    "#Look at the different values it takes with unique() and take the middle value. \n",
    "#As an example, 1/5/00 should be 5. Number of open complaints is a string - remember \n",
    "#you can use split() to deal with it and take the number you need. Finally, since it should be numeric, \n",
    "#cast the column to be in its proper type.\n",
    "\n",
    "dff['number_of_open_complaints'] = dff['number_of_open_complaints'].apply(lambda x: x.split('/')[1] if isinstance(x, str) and '/' in x else x)\n",
    "print(dff[\"number_of_open_complaints\"].unique())\n",
    "dff[\"number_of_open_complaints\"] = pd.to_numeric(dff[\"number_of_open_complaints\"], errors='coerce').fillna(0).astype(int)\n",
    "dff.dtypes"
   ]
  },
  {
   "cell_type": "markdown",
   "id": "14c52e28-2d0c-4dd2-8bd5-3476e34fadc1",
   "metadata": {
    "id": "14c52e28-2d0c-4dd2-8bd5-3476e34fadc1"
   },
   "source": [
    "## Exercise 4: Dealing with Null values"
   ]
  },
  {
   "cell_type": "markdown",
   "id": "34b9a20f-7d32-4417-975e-1b4dfb0e16cd",
   "metadata": {
    "id": "34b9a20f-7d32-4417-975e-1b4dfb0e16cd"
   },
   "source": [
    "Identify any columns with null or missing values. Identify how many null values each column has. You can use the `isnull()` function in pandas to find columns with null values.\n",
    "\n",
    "Decide on a strategy for handling the null values. There are several options, including:\n",
    "\n",
    "- Drop the rows or columns with null values\n",
    "- Fill the null values with a specific value (such as the column mean or median for numerical variables, and mode for categorical variables)\n",
    "- Fill the null values with the previous or next value in the column\n",
    "- Fill the null values based on a more complex algorithm or model (note: we haven't covered this yet)\n",
    "\n",
    "Implement your chosen strategy to handle the null values. You can use the `fillna()` function in pandas to fill null values or `dropna()` function to drop null values.\n",
    "\n",
    "Verify that your strategy has successfully handled the null values. You can use the `isnull()` function again to check if there are still null values in the dataset.\n",
    "\n",
    "Remember to document your process and explain your reasoning for choosing a particular strategy for handling null values.\n",
    "\n",
    "After formatting data types, as a last step, convert all the numeric variables to integers."
   ]
  },
  {
   "cell_type": "code",
   "execution_count": 108,
   "id": "02ec7d40-f3df-45c6-b1f8-c2bc5d276d7f",
   "metadata": {},
   "outputs": [
    {
     "data": {
      "text/html": [
       "<div>\n",
       "<style scoped>\n",
       "    .dataframe tbody tr th:only-of-type {\n",
       "        vertical-align: middle;\n",
       "    }\n",
       "\n",
       "    .dataframe tbody tr th {\n",
       "        vertical-align: top;\n",
       "    }\n",
       "\n",
       "    .dataframe thead th {\n",
       "        text-align: right;\n",
       "    }\n",
       "</style>\n",
       "<table border=\"1\" class=\"dataframe\">\n",
       "  <thead>\n",
       "    <tr style=\"text-align: right;\">\n",
       "      <th></th>\n",
       "      <th>customer</th>\n",
       "      <th>state</th>\n",
       "      <th>gender</th>\n",
       "      <th>education</th>\n",
       "      <th>customer_lifetime_value</th>\n",
       "      <th>income</th>\n",
       "      <th>monthly_premium_auto</th>\n",
       "      <th>number_of_open_complaints</th>\n",
       "      <th>policy_type</th>\n",
       "      <th>vehicle_class</th>\n",
       "      <th>total_claim_amount</th>\n",
       "    </tr>\n",
       "  </thead>\n",
       "  <tbody>\n",
       "    <tr>\n",
       "      <th>0</th>\n",
       "      <td>RB50392</td>\n",
       "      <td>None</td>\n",
       "      <td>None</td>\n",
       "      <td>Master</td>\n",
       "      <td>0</td>\n",
       "      <td>0.0</td>\n",
       "      <td>1000.0</td>\n",
       "      <td>0</td>\n",
       "      <td>Personal Auto</td>\n",
       "      <td>None</td>\n",
       "      <td>2.704934</td>\n",
       "    </tr>\n",
       "    <tr>\n",
       "      <th>1</th>\n",
       "      <td>QZ44356</td>\n",
       "      <td>None</td>\n",
       "      <td>None</td>\n",
       "      <td>Bachelor</td>\n",
       "      <td>0</td>\n",
       "      <td>0.0</td>\n",
       "      <td>94.0</td>\n",
       "      <td>0</td>\n",
       "      <td>Personal Auto</td>\n",
       "      <td>None</td>\n",
       "      <td>1131.464935</td>\n",
       "    </tr>\n",
       "    <tr>\n",
       "      <th>2</th>\n",
       "      <td>AI49188</td>\n",
       "      <td>None</td>\n",
       "      <td>None</td>\n",
       "      <td>Bachelor</td>\n",
       "      <td>0</td>\n",
       "      <td>48767.0</td>\n",
       "      <td>108.0</td>\n",
       "      <td>0</td>\n",
       "      <td>Personal Auto</td>\n",
       "      <td>None</td>\n",
       "      <td>566.472247</td>\n",
       "    </tr>\n",
       "    <tr>\n",
       "      <th>3</th>\n",
       "      <td>WW63253</td>\n",
       "      <td>None</td>\n",
       "      <td>None</td>\n",
       "      <td>Bachelor</td>\n",
       "      <td>0</td>\n",
       "      <td>0.0</td>\n",
       "      <td>106.0</td>\n",
       "      <td>0</td>\n",
       "      <td>Corporate Auto</td>\n",
       "      <td>None</td>\n",
       "      <td>529.881344</td>\n",
       "    </tr>\n",
       "    <tr>\n",
       "      <th>4</th>\n",
       "      <td>GA49547</td>\n",
       "      <td>None</td>\n",
       "      <td>None</td>\n",
       "      <td>High School or Below</td>\n",
       "      <td>0</td>\n",
       "      <td>36357.0</td>\n",
       "      <td>68.0</td>\n",
       "      <td>0</td>\n",
       "      <td>Personal Auto</td>\n",
       "      <td>None</td>\n",
       "      <td>17.269323</td>\n",
       "    </tr>\n",
       "  </tbody>\n",
       "</table>\n",
       "</div>"
      ],
      "text/plain": [
       "  customer state gender             education  customer_lifetime_value  \\\n",
       "0  RB50392  None   None                Master                        0   \n",
       "1  QZ44356  None   None              Bachelor                        0   \n",
       "2  AI49188  None   None              Bachelor                        0   \n",
       "3  WW63253  None   None              Bachelor                        0   \n",
       "4  GA49547  None   None  High School or Below                        0   \n",
       "\n",
       "    income  monthly_premium_auto  number_of_open_complaints     policy_type  \\\n",
       "0      0.0                1000.0                          0   Personal Auto   \n",
       "1      0.0                  94.0                          0   Personal Auto   \n",
       "2  48767.0                 108.0                          0   Personal Auto   \n",
       "3      0.0                 106.0                          0  Corporate Auto   \n",
       "4  36357.0                  68.0                          0   Personal Auto   \n",
       "\n",
       "  vehicle_class  total_claim_amount  \n",
       "0          None            2.704934  \n",
       "1          None         1131.464935  \n",
       "2          None          566.472247  \n",
       "3          None          529.881344  \n",
       "4          None           17.269323  "
      ]
     },
     "execution_count": 108,
     "metadata": {},
     "output_type": "execute_result"
    }
   ],
   "source": [
    "dff.head()"
   ]
  },
  {
   "cell_type": "code",
   "execution_count": 110,
   "id": "f184fc35-7831-4836-a0a5-e7f99e01b40e",
   "metadata": {
    "id": "f184fc35-7831-4836-a0a5-e7f99e01b40e"
   },
   "outputs": [
    {
     "data": {
      "text/plain": [
       "customer                     2937\n",
       "state                        3833\n",
       "gender                       3924\n",
       "education                    2937\n",
       "customer_lifetime_value         0\n",
       "income                       2937\n",
       "monthly_premium_auto         2937\n",
       "number_of_open_complaints       0\n",
       "policy_type                  2937\n",
       "vehicle_class                3917\n",
       "total_claim_amount           2937\n",
       "dtype: int64"
      ]
     },
     "execution_count": 110,
     "metadata": {},
     "output_type": "execute_result"
    }
   ],
   "source": [
    "#Drop the rows or columns with null values\n",
    "\n",
    "dff.isnull().sum()#Analyze the null values."
   ]
  },
  {
   "cell_type": "code",
   "execution_count": 112,
   "id": "f72a6ba2-642c-4b19-973d-a04456a23504",
   "metadata": {},
   "outputs": [
    {
     "data": {
      "text/plain": [
       "Index(['customer', 'state', 'gender', 'education', 'customer_lifetime_value',\n",
       "       'income', 'monthly_premium_auto', 'number_of_open_complaints',\n",
       "       'policy_type', 'vehicle_class', 'total_claim_amount'],\n",
       "      dtype='object')"
      ]
     },
     "execution_count": 112,
     "metadata": {},
     "output_type": "execute_result"
    }
   ],
   "source": [
    "dff.columns"
   ]
  },
  {
   "cell_type": "code",
   "execution_count": 114,
   "id": "0fac91b8-5724-4a17-8b4f-94566e3b60b1",
   "metadata": {},
   "outputs": [
    {
     "name": "stdout",
     "output_type": "stream",
     "text": [
      "Index(['income', 'monthly_premium_auto', 'total_claim_amount'], dtype='object')\n",
      "Index(['customer', 'state', 'gender', 'education', 'policy_type',\n",
      "       'vehicle_class'],\n",
      "      dtype='object')\n"
     ]
    }
   ],
   "source": [
    "#Identifying type columns\n",
    "num_col=dff.select_dtypes(include=['float64','int64']).columns\n",
    "cat_col=dff.select_dtypes(include=['object']).columns\n",
    "print(num_col)\n",
    "print(cat_col)                          "
   ]
  },
  {
   "cell_type": "code",
   "execution_count": 116,
   "id": "41426bd4-a009-4cbf-a13d-985f645de989",
   "metadata": {},
   "outputs": [],
   "source": [
    "#Fill the null values with a specific value (such as the column mean or median for numerical variables, \n",
    "#and mode for categorical variables)\n",
    "\n",
    "for col in num_col:#Filling the numerical columns using the median \n",
    "    dff[col]=dff[col].fillna(dff[col].median())\n",
    "for col in cat_col:#and categorical columns using the mode.\n",
    "    dff[col]=dff[col].fillna(dff[col].mode())"
   ]
  },
  {
   "cell_type": "code",
   "execution_count": 118,
   "id": "573023ab-c9b9-4b72-8910-f67339a776c6",
   "metadata": {},
   "outputs": [
    {
     "data": {
      "text/plain": [
       "customer                     73.278443\n",
       "state                        95.608782\n",
       "gender                       97.879242\n",
       "education                    73.278443\n",
       "customer_lifetime_value       0.000000\n",
       "income                        0.000000\n",
       "monthly_premium_auto          0.000000\n",
       "number_of_open_complaints     0.000000\n",
       "policy_type                  73.278443\n",
       "vehicle_class                97.704591\n",
       "total_claim_amount            0.000000\n",
       "dtype: float64"
      ]
     },
     "execution_count": 118,
     "metadata": {},
     "output_type": "execute_result"
    }
   ],
   "source": [
    "#Fill the null values with the previous or next value in the column\n",
    "\n",
    "dff.isnull().sum()/len(dff)*100#checking the percentage of null values"
   ]
  },
  {
   "cell_type": "code",
   "execution_count": 120,
   "id": "c4df75b7-5f66-4203-9d73-dfa37a7645ef",
   "metadata": {},
   "outputs": [],
   "source": [
    "#Removing lignes that are too incompletes\n",
    "dff.dropna(how='all', subset=['customer', 'state','gender','education','policy_type','vehicle_class'],inplace=True)"
   ]
  },
  {
   "cell_type": "code",
   "execution_count": 122,
   "id": "a0cea056-a229-4d84-b313-84ab755ba535",
   "metadata": {},
   "outputs": [
    {
     "data": {
      "text/plain": [
       "customer                     0\n",
       "state                        0\n",
       "gender                       0\n",
       "education                    0\n",
       "customer_lifetime_value      0\n",
       "income                       0\n",
       "monthly_premium_auto         0\n",
       "number_of_open_complaints    0\n",
       "policy_type                  0\n",
       "vehicle_class                0\n",
       "total_claim_amount           0\n",
       "dtype: int64"
      ]
     },
     "execution_count": 122,
     "metadata": {},
     "output_type": "execute_result"
    }
   ],
   "source": [
    "#Fill the null values based on a more complex algorithm or model (note: we haven't covered this yet)\n",
    "\n",
    "dff.fillna(\"Unknow\", inplace=True)#filling the rest \"gender,state and vehicle_class\" with \"unknow\"\n",
    "\n",
    "dff.isnull().sum()#checking if there no more null values"
   ]
  },
  {
   "cell_type": "code",
   "execution_count": 124,
   "id": "3f402a25-ad47-4f76-a0cc-ba4f0f47d9e2",
   "metadata": {},
   "outputs": [
    {
     "data": {
      "text/html": [
       "<div>\n",
       "<style scoped>\n",
       "    .dataframe tbody tr th:only-of-type {\n",
       "        vertical-align: middle;\n",
       "    }\n",
       "\n",
       "    .dataframe tbody tr th {\n",
       "        vertical-align: top;\n",
       "    }\n",
       "\n",
       "    .dataframe thead th {\n",
       "        text-align: right;\n",
       "    }\n",
       "</style>\n",
       "<table border=\"1\" class=\"dataframe\">\n",
       "  <thead>\n",
       "    <tr style=\"text-align: right;\">\n",
       "      <th></th>\n",
       "      <th>customer</th>\n",
       "      <th>state</th>\n",
       "      <th>gender</th>\n",
       "      <th>education</th>\n",
       "      <th>customer_lifetime_value</th>\n",
       "      <th>income</th>\n",
       "      <th>monthly_premium_auto</th>\n",
       "      <th>number_of_open_complaints</th>\n",
       "      <th>policy_type</th>\n",
       "      <th>vehicle_class</th>\n",
       "      <th>total_claim_amount</th>\n",
       "    </tr>\n",
       "  </thead>\n",
       "  <tbody>\n",
       "    <tr>\n",
       "      <th>0</th>\n",
       "      <td>RB50392</td>\n",
       "      <td>California</td>\n",
       "      <td>F</td>\n",
       "      <td>Master</td>\n",
       "      <td>0</td>\n",
       "      <td>0.0</td>\n",
       "      <td>1000.0</td>\n",
       "      <td>0</td>\n",
       "      <td>Personal Auto</td>\n",
       "      <td>Luxury</td>\n",
       "      <td>2.704934</td>\n",
       "    </tr>\n",
       "    <tr>\n",
       "      <th>1</th>\n",
       "      <td>QZ44356</td>\n",
       "      <td>Unknow</td>\n",
       "      <td>Unknow</td>\n",
       "      <td>Bachelor</td>\n",
       "      <td>0</td>\n",
       "      <td>0.0</td>\n",
       "      <td>94.0</td>\n",
       "      <td>0</td>\n",
       "      <td>Personal Auto</td>\n",
       "      <td>Unknow</td>\n",
       "      <td>1131.464935</td>\n",
       "    </tr>\n",
       "    <tr>\n",
       "      <th>2</th>\n",
       "      <td>AI49188</td>\n",
       "      <td>Unknow</td>\n",
       "      <td>Unknow</td>\n",
       "      <td>Bachelor</td>\n",
       "      <td>0</td>\n",
       "      <td>48767.0</td>\n",
       "      <td>108.0</td>\n",
       "      <td>0</td>\n",
       "      <td>Personal Auto</td>\n",
       "      <td>Unknow</td>\n",
       "      <td>566.472247</td>\n",
       "    </tr>\n",
       "    <tr>\n",
       "      <th>3</th>\n",
       "      <td>WW63253</td>\n",
       "      <td>Unknow</td>\n",
       "      <td>Unknow</td>\n",
       "      <td>Bachelor</td>\n",
       "      <td>0</td>\n",
       "      <td>0.0</td>\n",
       "      <td>106.0</td>\n",
       "      <td>0</td>\n",
       "      <td>Corporate Auto</td>\n",
       "      <td>Unknow</td>\n",
       "      <td>529.881344</td>\n",
       "    </tr>\n",
       "    <tr>\n",
       "      <th>4</th>\n",
       "      <td>GA49547</td>\n",
       "      <td>Unknow</td>\n",
       "      <td>Unknow</td>\n",
       "      <td>High School or Below</td>\n",
       "      <td>0</td>\n",
       "      <td>36357.0</td>\n",
       "      <td>68.0</td>\n",
       "      <td>0</td>\n",
       "      <td>Personal Auto</td>\n",
       "      <td>Unknow</td>\n",
       "      <td>17.269323</td>\n",
       "    </tr>\n",
       "  </tbody>\n",
       "</table>\n",
       "</div>"
      ],
      "text/plain": [
       "  customer       state  gender             education  customer_lifetime_value  \\\n",
       "0  RB50392  California       F                Master                        0   \n",
       "1  QZ44356      Unknow  Unknow              Bachelor                        0   \n",
       "2  AI49188      Unknow  Unknow              Bachelor                        0   \n",
       "3  WW63253      Unknow  Unknow              Bachelor                        0   \n",
       "4  GA49547      Unknow  Unknow  High School or Below                        0   \n",
       "\n",
       "    income  monthly_premium_auto  number_of_open_complaints     policy_type  \\\n",
       "0      0.0                1000.0                          0   Personal Auto   \n",
       "1      0.0                  94.0                          0   Personal Auto   \n",
       "2  48767.0                 108.0                          0   Personal Auto   \n",
       "3      0.0                 106.0                          0  Corporate Auto   \n",
       "4  36357.0                  68.0                          0   Personal Auto   \n",
       "\n",
       "  vehicle_class  total_claim_amount  \n",
       "0        Luxury            2.704934  \n",
       "1        Unknow         1131.464935  \n",
       "2        Unknow          566.472247  \n",
       "3        Unknow          529.881344  \n",
       "4        Unknow           17.269323  "
      ]
     },
     "execution_count": 124,
     "metadata": {},
     "output_type": "execute_result"
    }
   ],
   "source": [
    "dff.head()"
   ]
  },
  {
   "cell_type": "code",
   "execution_count": 126,
   "id": "ab3046cc-66e1-4d6a-8547-4d7dda4bac90",
   "metadata": {},
   "outputs": [],
   "source": [
    "#as a last step, convert all the numeric variables to integers\n",
    "dff[num_col] = dff[num_col].astype(int)"
   ]
  },
  {
   "cell_type": "code",
   "execution_count": 128,
   "id": "54a6b756-019d-469b-9601-7804cc53f03f",
   "metadata": {},
   "outputs": [
    {
     "data": {
      "text/plain": [
       "customer                     object\n",
       "state                        object\n",
       "gender                       object\n",
       "education                    object\n",
       "customer_lifetime_value       int32\n",
       "income                        int32\n",
       "monthly_premium_auto          int32\n",
       "number_of_open_complaints     int32\n",
       "policy_type                  object\n",
       "vehicle_class                object\n",
       "total_claim_amount            int32\n",
       "dtype: object"
      ]
     },
     "execution_count": 128,
     "metadata": {},
     "output_type": "execute_result"
    }
   ],
   "source": [
    "dff.dtypes"
   ]
  },
  {
   "cell_type": "markdown",
   "id": "98416351-e999-4156-9834-9b00a311adfa",
   "metadata": {
    "id": "98416351-e999-4156-9834-9b00a311adfa"
   },
   "source": [
    "## Exercise 5: Dealing with duplicates"
   ]
  },
  {
   "cell_type": "markdown",
   "id": "ea0816a7-a18e-4d4c-b667-a8452a800bd1",
   "metadata": {
    "id": "ea0816a7-a18e-4d4c-b667-a8452a800bd1"
   },
   "source": [
    "Use the `.duplicated()` method to identify any duplicate rows in the dataframe.\n",
    "\n",
    "Decide on a strategy for handling the duplicates. Options include:\n",
    "- Dropping all duplicate rows\n",
    "- Keeping only the first occurrence of each duplicated row\n",
    "- Keeping only the last occurrence of each duplicated row\n",
    "- Dropping duplicates based on a subset of columns\n",
    "- Dropping duplicates based on a specific column\n",
    "\n",
    "Implement your chosen strategy using the `drop_duplicates()` function.\n",
    "\n",
    "Verify that your strategy has successfully handled the duplicates by checking for duplicates again using `.duplicated()`.\n",
    "\n",
    "Remember to document your process and explain your reasoning for choosing a particular strategy for handling duplicates.\n",
    "\n",
    "Save the cleaned dataset to a new CSV file.\n",
    "\n",
    "*Hint*: *after dropping duplicates, reset the index to ensure consistency*."
   ]
  },
  {
   "cell_type": "code",
   "execution_count": 130,
   "id": "28464545-0998-4a07-9b35-8dab701e17e7",
   "metadata": {},
   "outputs": [
    {
     "data": {
      "text/plain": [
       "0"
      ]
     },
     "execution_count": 130,
     "metadata": {},
     "output_type": "execute_result"
    }
   ],
   "source": [
    "#Dropping all duplicate rows\n",
    "dff.duplicated().sum()"
   ]
  },
  {
   "cell_type": "code",
   "execution_count": 132,
   "id": "32956de5-e50a-40b5-89e0-d3394756d622",
   "metadata": {},
   "outputs": [
    {
     "name": "stdout",
     "output_type": "stream",
     "text": [
      "customer\n",
      "RB50392    1\n",
      "HJ15383    1\n",
      "AO74776    1\n",
      "HQ82233    1\n",
      "OL72737    1\n",
      "Name: count, dtype: int64\n",
      "state\n",
      "Unknow        895\n",
      "California    121\n",
      "Washington     30\n",
      "Arizona        25\n",
      "Name: count, dtype: int64\n",
      "gender\n",
      "Unknow    986\n",
      "F          46\n",
      "M          39\n",
      "Name: count, dtype: int64\n",
      "education\n",
      "Bachelor                331\n",
      "College                 313\n",
      "High School or Below    296\n",
      "Master                   94\n",
      "Doctor                   37\n",
      "Name: count, dtype: int64\n",
      "customer_lifetime_value\n",
      "0    1071\n",
      "Name: count, dtype: int64\n",
      "income\n",
      "0        252\n",
      "43860      4\n",
      "17622      4\n",
      "36650      3\n",
      "14072      3\n",
      "Name: count, dtype: int64\n",
      "monthly_premium_auto\n",
      "65    47\n",
      "63    39\n",
      "71    37\n",
      "67    37\n",
      "73    37\n",
      "Name: count, dtype: int64\n",
      "number_of_open_complaints\n",
      "0    830\n",
      "1    138\n",
      "2     50\n",
      "3     34\n",
      "4     13\n",
      "Name: count, dtype: int64\n",
      "policy_type\n",
      "Personal Auto     780\n",
      "Corporate Auto    234\n",
      "Special Auto       57\n",
      "Name: count, dtype: int64\n",
      "vehicle_class\n",
      "Unknow    979\n",
      "Luxury     92\n",
      "Name: count, dtype: int64\n",
      "total_claim_amount\n",
      "321    20\n",
      "350    16\n",
      "312    15\n",
      "331    15\n",
      "316    14\n",
      "Name: count, dtype: int64\n"
     ]
    }
   ],
   "source": [
    "#checking values of each columns to be sure there is no duplicated values\n",
    "list=['customer', 'state', 'gender', 'education', 'customer_lifetime_value',\n",
    "       'income', 'monthly_premium_auto', 'number_of_open_complaints',\n",
    "       'policy_type', 'vehicle_class', 'total_claim_amount']\n",
    "for i in list:\n",
    "    print(dff[i].value_counts().head())"
   ]
  },
  {
   "cell_type": "markdown",
   "id": "717ee34c-eb12-4737-abbb-cda774e1f9ef",
   "metadata": {},
   "source": [
    "I don't have any duplicated value"
   ]
  },
  {
   "cell_type": "code",
   "execution_count": 136,
   "id": "ac5b52e2-065b-4f4b-a837-c64e437312e0",
   "metadata": {},
   "outputs": [],
   "source": [
    "#Save the cleaned dataset to a new CSV file.\n",
    "dff.to_csv('insurance_company_cleaned.csv', index=False)\n"
   ]
  },
  {
   "cell_type": "markdown",
   "id": "60840701-4783-40e2-b4d8-55303f9100c9",
   "metadata": {
    "id": "60840701-4783-40e2-b4d8-55303f9100c9"
   },
   "source": [
    "# Bonus: Challenge 2: creating functions on a separate `py` file"
   ]
  },
  {
   "cell_type": "markdown",
   "id": "9d1adb3a-17cf-4899-8041-da21a4337fb4",
   "metadata": {
    "id": "9d1adb3a-17cf-4899-8041-da21a4337fb4"
   },
   "source": [
    "Put all the data cleaning and formatting steps into functions, and create a main function that performs all the cleaning and formatting.\n",
    "\n",
    "Write these functions in separate .py file(s). By putting these steps into functions, we can make the code more modular and easier to maintain."
   ]
  },
  {
   "cell_type": "markdown",
   "id": "0e170dc2-b62c-417a-8248-e63ed18a70c4",
   "metadata": {
    "id": "0e170dc2-b62c-417a-8248-e63ed18a70c4"
   },
   "source": [
    "*Hint: autoreload module is a utility module in Python that allows you to automatically reload modules in the current session when changes are made to the source code. This can be useful in situations where you are actively developing code and want to see the effects of changes you make without having to constantly restart the Python interpreter or Jupyter Notebook kernel.*"
   ]
  },
  {
   "cell_type": "code",
   "execution_count": 5,
   "id": "a52c6dfc-cd11-4d01-bda4-f719fa33e9a4",
   "metadata": {
    "id": "a52c6dfc-cd11-4d01-bda4-f719fa33e9a4"
   },
   "outputs": [],
   "source": [
    "import pandas as pd\n",
    "\n",
    "def format_columns(dff):\n",
    "    \"\"\"Format column names: lowercase and replace spaces with underscores.\"\"\"\n",
    "    dff.columns = [col.replace(\" \", \"_\").lower() for col in dff.columns]\n",
    "    return dff\n",
    "\n",
    "def rename_col(dff):\n",
    "    \"\"\"Rename 'st' to 'state'.\"\"\"\n",
    "    dff.rename(columns={\"st\": \"state\"}, inplace=True)\n",
    "    return dff\n",
    "\n",
    "def clean_gender(dff):\n",
    "    \"\"\"Standardize gender values to 'M' and 'F'.\"\"\"\n",
    "    def gender(row):\n",
    "        if row[\"gender\"] in [\"Femal\", \"female\"]:\n",
    "            return \"F\"\n",
    "        elif row[\"gender\"] in [\"Male\", \"M\"]:\n",
    "            return \"M\"\n",
    "        else:\n",
    "            return row[\"gender\"]\n",
    "\n",
    "    dff[\"gender\"] = dff.apply(gender, axis=1)\n",
    "    return dff\n",
    "\n",
    "def clean_state(dff):\n",
    "    \"\"\"Replace state abbreviations with full names.\"\"\"\n",
    "    state_mapping = {\"AZ\": \"Arizona\", \"Cali\": \"California\", \"WA\": \"Washington\"}\n",
    "    dff[\"state\"] = dff[\"state\"].replace(state_mapping)\n",
    "    return dff\n",
    "\n",
    "def replace_bachelor(dff):\n",
    "    \"\"\"Replace 'Bachelors' with 'Bachelor' in the education column.\"\"\"\n",
    "    dff[\"education\"] = dff[\"education\"].replace({\"Bachelors\": \"Bachelor\"})\n",
    "    return dff\n",
    "\n",
    "def clean_customer_lifetime_value(dff):\n",
    "    \"\"\"Remove '%' from 'customer_lifetime_value' and convert to numeric.\"\"\"\n",
    "    dff[\"customer_lifetime_value\"] = dff[\"customer_lifetime_value\"].str.replace('%', '').astype(float)\n",
    "    return dff\n",
    "\n",
    "def clean_vehicle_class(dff):\n",
    "    \"\"\"Group vehicle class values into 'Luxury'.\"\"\"\n",
    "    def vehicle_class(row):\n",
    "        if row[\"vehicle_class\"] in [\"Sports Car\", \"Luxury SUV\", \"Luxury Car\"]:\n",
    "            return \"Luxury\"\n",
    "        else:\n",
    "            return row[\"vehicle_class\"]\n",
    "\n",
    "    dff[\"vehicle_class\"] = dff.apply(vehicle_class, axis=1)\n",
    "    return dff\n",
    "\n",
    "def convert_to_numeric(dff):\n",
    "    \"\"\"Convert 'customer_lifetime_value' to numeric.\"\"\"\n",
    "    dff[\"customer_lifetime_value\"] = pd.to_numeric(dff[\"customer_lifetime_value\"], errors='coerce').fillna(0).astype(int)\n",
    "    return dff\n",
    "\n",
    "def clean_open_complaints(dff):\n",
    "    \"\"\"Clean 'number_of_open_complaints' column and convert to numeric.\"\"\"\n",
    "    dff['number_of_open_complaints'] = dff['number_of_open_complaints'].apply(lambda x: x.split('/')[1] if isinstance(x, str) and '/' in x else x)\n",
    "    dff['number_of_open_complaints'] = pd.to_numeric(dff['number_of_open_complaints'], errors='coerce').fillna(0).astype(int)\n",
    "    return dff\n",
    "\n",
    "def fill_missing_values(dff):\n",
    "    \"\"\"Fill missing values in numeric columns with median and categorical with mode.\"\"\"\n",
    "    num_cols = dff.select_dtypes(include=['float64', 'int64']).columns\n",
    "    cat_cols = dff.select_dtypes(include=['object']).columns\n",
    "    \n",
    "    for col in num_cols:\n",
    "        dff[col] = dff[col].fillna(dff[col].median())\n",
    "    for col in cat_cols:\n",
    "        dff[col] = dff[col].fillna(dff[col].mode()[0])\n",
    "        \n",
    "    return dff\n",
    "\n",
    "def remove_incomplete_rows(dff):\n",
    "    \"\"\"Remove rows that are too incomplete.\"\"\"\n",
    "    dff = dff.dropna(how='all', subset=['customer', 'state', 'gender', 'education', 'policy_type', 'vehicle_class'])\n",
    "    return dff\n",
    "\n",
    "def check_duplicates(dff):\n",
    "    \"\"\"Check for duplicate rows.\"\"\"\n",
    "    return dff.duplicated().sum()\n",
    "\n",
    "def save_to_csv(dff, filename):\n",
    "    \"\"\"Save the cleaned DataFrame to a CSV file.\"\"\"\n",
    "    dff.to_csv(filename, index=False)\n",
    "    print(f\"Data saved to {filename}\")\n",
    "\n",
    "def main():\n",
    "    \"\"\"Main function to run all cleaning steps.\"\"\"\n",
    "    dff = pd.read_csv('https://raw.githubusercontent.com/data-bootcamp-v4/data/main/file1.csv')\n",
    "\n",
    "    # Apply all cleaning functions\n",
    "    dff = format_columns(dff)\n",
    "    dff = rename_col(dff)\n",
    "    dff = clean_gender(dff)\n",
    "    dff = clean_state(dff)\n",
    "    dff = replace_bachelor(dff)\n",
    "    dff = clean_customer_lifetime_value(dff)\n",
    "    dff = clean_vehicle_class(dff)\n",
    "    dff = convert_to_numeric(dff)\n",
    "    dff = clean_open_complaints(dff)\n",
    "    dff = fill_missing_values(dff)\n",
    "    dff = remove_incomplete_rows(dff)\n",
    "    \n",
    "    # Check for duplicates\n",
    "    duplicates = check_duplicates(dff)\n",
    "    print(f\"Number of duplicate rows: {duplicates}\")\n",
    "    \n",
    "     Save the cleaned data\n",
    "    save_to_csv(dff, 'cleaned_data.csv')\n"
   ]
  },
  {
   "cell_type": "markdown",
   "id": "80f846bb-3f5e-4ca2-96c0-900728daca5a",
   "metadata": {
    "id": "80f846bb-3f5e-4ca2-96c0-900728daca5a",
    "tags": []
   },
   "source": [
    "# Bonus: Challenge 3: Analyzing Clean and Formated Data"
   ]
  },
  {
   "cell_type": "markdown",
   "id": "9021630e-cc90-446c-b5bd-264d6c864207",
   "metadata": {
    "id": "9021630e-cc90-446c-b5bd-264d6c864207"
   },
   "source": [
    "You have been tasked with analyzing the data to identify potential areas for improving customer retention and profitability. Your goal is to identify customers with a high policy claim amount and a low customer lifetime value.\n",
    "\n",
    "In the Pandas Lab, we only looked at high policy claim amounts because we couldn't look into low customer lifetime values. If we had tried to work with that column, we wouldn't have been able to because customer lifetime value wasn't clean and in its proper format. So after cleaning and formatting the data, let's get some more interesting insights!\n",
    "\n",
    "Instructions:\n",
    "\n",
    "- Review the statistics again for total claim amount and customer lifetime value to gain an understanding of the data.\n",
    "- To identify potential areas for improving customer retention and profitability, we want to focus on customers with a high policy claim amount and a low customer lifetime value. Consider customers with a high policy claim amount to be those in the top 25% of the total claim amount, and clients with a low customer lifetime value to be those in the bottom 25% of the customer lifetime value. Create a pandas DataFrame object that contains information about customers with a policy claim amount greater than the 75th percentile and a customer lifetime value in the bottom 25th percentile.\n",
    "- Use DataFrame methods to calculate summary statistics about the high policy claim amount and low customer lifetime value data. To do so, select both columns of the dataframe simultaneously and pass it to the `.describe()` method. This will give you descriptive statistics, such as mean, median, standard deviation, minimum and maximum values for both columns at the same time, allowing you to compare and analyze their characteristics."
   ]
  },
  {
   "cell_type": "code",
   "execution_count": null,
   "id": "211e82b5-461a-4d6f-8a23-4deccb84173c",
   "metadata": {
    "id": "211e82b5-461a-4d6f-8a23-4deccb84173c"
   },
   "outputs": [],
   "source": [
    "# 1. Calculate quantile 0.75 and 0.25 'total_claim_amount' and 'customer_lifetime_value'\n",
    "claim_75th_percentile = dff['total_claim_amount'].quantile(0.75)\n",
    "lifetime_value_25th_percentile = dff['customer_lifetime_value'].quantile(0.25)\n",
    "\n",
    "# 2.clients with total claim amount > 75e quantile and lifetime value < 25e percentile\n",
    "filtered_customers = dff[\n",
    "    (dff['total_claim_amount'] > claim_75th_percentile) & \n",
    "    (dff['customer_lifetime_value'] < lifetime_value_25th_percentile)\n",
    "]\n",
    "\n",
    "# 3. show statics \n",
    "summary_stats = filtered_customers[['total_claim_amount', 'customer_lifetime_value']].describe()\n",
    "\n",
    "# Print stats\n",
    "print(summary_stats)"
   ]
  }
 ],
 "metadata": {
  "colab": {
   "provenance": []
  },
  "kernelspec": {
   "display_name": "Python 3 (ipykernel)",
   "language": "python",
   "name": "python3"
  },
  "language_info": {
   "codemirror_mode": {
    "name": "ipython",
    "version": 3
   },
   "file_extension": ".py",
   "mimetype": "text/x-python",
   "name": "python",
   "nbconvert_exporter": "python",
   "pygments_lexer": "ipython3",
   "version": "3.12.4"
  }
 },
 "nbformat": 4,
 "nbformat_minor": 5
}
